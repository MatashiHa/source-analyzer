{
 "cells": [
  {
   "cell_type": "code",
   "execution_count": null,
   "id": "7921b411",
   "metadata": {},
   "outputs": [
    {
     "name": "stderr",
     "output_type": "stream",
     "text": [
      "c:\\Users\\pafin\\projects\\source-analyzer\\.venv\\Lib\\site-packages\\tqdm\\auto.py:21: TqdmWarning: IProgress not found. Please update jupyter and ipywidgets. See https://ipywidgets.readthedocs.io/en/stable/user_install.html\n",
      "  from .autonotebook import tqdm as notebook_tqdm\n",
      "Loading checkpoint shards: 100%|██████████| 2/2 [00:29<00:00, 14.82s/it]\n"
     ]
    }
   ],
   "source": [
    "import os\n",
    "\n",
    "import torch\n",
    "from dotenv import load_dotenv\n",
    "from peft import prepare_model_for_kbit_training\n",
    "from transformers import AutoModelForCausalLM, AutoTokenizer, BitsAndBytesConfig\n",
    "\n",
    "load_dotenv()\n",
    "\n",
    "if torch.cuda.is_available():\n",
    "    device = \"cuda\"\n",
    "    bnb_config = BitsAndBytesConfig(\n",
    "        load_in_4bit=True,\n",
    "        bnb_4bit_use_double_quant=True,\n",
    "        bnb_4bit_quant_type=\"nf4\",\n",
    "        bnb_4bit_compute_dtype=torch.float16,\n",
    "    )\n",
    "else:\n",
    "    device = \"cpu\"\n",
    "    bnb_config = None\n",
    "# from models import load_model, load_tokenizer\n",
    "tokenizer = AutoTokenizer.from_pretrained(\n",
    "    os.getenv(\"LLM_MODEL_NAME\"),\n",
    "    token=os.getenv(\"HF_TOKEN\"),\n",
    "    device_map=device,\n",
    ")\n",
    "model = AutoModelForCausalLM.from_pretrained(\n",
    "    os.getenv(\"LLM_MODEL_NAME\"),\n",
    "    token=os.getenv(\"HF_TOKEN\"),\n",
    "    quantization_config=bnb_config,\n",
    "    device_map=device,\n",
    ")\n",
    "# tokenizer = load_tokenizer()\n",
    "# model = load_model()\n",
    "\n",
    "model.gradient_checkpointing_enable()\n",
    "model = prepare_model_for_kbit_training(model)\n"
   ]
  },
  {
   "cell_type": "code",
   "execution_count": 2,
   "id": "042ee6d8",
   "metadata": {},
   "outputs": [],
   "source": [
    "def print_trainable_parameters(model):\n",
    "    \"\"\"\n",
    "    Prints the number of trainable parameters in the model.\n",
    "    \"\"\"\n",
    "    trainable_params = 0\n",
    "    all_param = 0\n",
    "    for _, param in model.named_parameters():\n",
    "        all_param += param.numel()\n",
    "        if param.requires_grad:\n",
    "            trainable_params += param.numel()\n",
    "    print(\n",
    "        f\"trainable params: {trainable_params} || all params: {all_param} || trainable%: {100 * trainable_params / all_param}\"\n",
    "    )"
   ]
  },
  {
   "cell_type": "code",
   "execution_count": null,
   "id": "765dce80",
   "metadata": {},
   "outputs": [
    {
     "name": "stdout",
     "output_type": "stream",
     "text": [
      "trainable params: 3670016 || all params: 2229079040 || trainable%: 0.16464270374190051\n"
     ]
    }
   ],
   "source": [
    "import torch\n",
    "from peft import LoraConfig, get_peft_model\n",
    "\n",
    "config = LoraConfig(\n",
    "    r=8,\n",
    "    lora_alpha=16,\n",
    "    # \"gate_up_proj\", \"down_proj\"\n",
    "    target_modules=[\"qkv_proj\", \"o_proj\"],\n",
    "    lora_dropout=0.05,\n",
    "    bias=\"none\",\n",
    "    task_type=\"CAUSAL_LM\",\n",
    ")\n",
    "# device = \"cuda\" if torch.cuda.is_available() else \"cpu\"\n",
    "# model.unload()\n",
    "model = get_peft_model(model, config)\n",
    "print_trainable_parameters(model)"
   ]
  },
  {
   "cell_type": "code",
   "execution_count": 23,
   "id": "c260dadb",
   "metadata": {},
   "outputs": [],
   "source": [
    "model = model.to(device)"
   ]
  },
  {
   "cell_type": "code",
   "execution_count": 17,
   "id": "68c8c0b6",
   "metadata": {},
   "outputs": [],
   "source": [
    "import json\n",
    "\n",
    "# Загрузка исходных данных\n",
    "with open(\"training_data.json\", \"r\", encoding=\"utf-8\") as f:\n",
    "    data = json.load(f)\n",
    "\n",
    "# Формирование датасета\n",
    "dataset = []\n",
    "for i in range(0, len(data), 2):\n",
    "    user_msg = data[i]\n",
    "    assistant_msg = data[i + 1]\n",
    "\n",
    "    entry = {\"messages\": [user_msg, assistant_msg]}\n",
    "    # entry = [data[i], data[i+1]]\n",
    "    dataset.append(entry)\n",
    "\n",
    "# Пример: вывод первых 3 элементов\n",
    "# for example in dataset[:3]:\n",
    "#     print(json.dumps(example, indent=2, ensure_ascii=False))\n",
    "\n",
    "with open(\"chatml_dataset.jsonl\", \"w\", encoding=\"utf-8\") as f:\n",
    "    for entry in dataset:\n",
    "        f.write(json.dumps(entry, ensure_ascii=False) + \"\\n\")\n"
   ]
  },
  {
   "cell_type": "code",
   "execution_count": 18,
   "id": "edf88963",
   "metadata": {},
   "outputs": [
    {
     "name": "stderr",
     "output_type": "stream",
     "text": [
      "Generating train split: 60 examples [00:00, 6989.34 examples/s]\n"
     ]
    }
   ],
   "source": [
    "from datasets import load_dataset\n",
    "\n",
    "# Загрузка .jsonl\n",
    "dataset = load_dataset(\"json\", data_files=\"chatml_dataset.jsonl\", split=\"train\")"
   ]
  },
  {
   "cell_type": "code",
   "execution_count": null,
   "id": "2c17fd01",
   "metadata": {},
   "outputs": [
    {
     "name": "stdout",
     "output_type": "stream",
     "text": [
      "MemoryMappedTable\n",
      "messages: list<item: struct<role: string, content: string>>\n",
      "  child 0, item: struct<role: string, content: string>\n",
      "      child 0, role: string\n",
      "      child 1, content: string\n",
      "----\n",
      "messages: [[    -- is_valid: all not null\n",
      "    -- child 0 type: string\n",
      "[\"user\",\"assistant\"]\n",
      "    -- child 1 type: string\n",
      "[\"Category: positivity\n",
      "Text: the weather is good tonight, but im too tired.\",\"{\n",
      "  \"predicted_class\": \"low\",\n",
      "  \"class_to_words\": {\n",
      "    \"high\": [\"good\"],\n",
      "    \"medium\": [\"tonight\"],\n",
      "    \"low\": [\"tired\", \"but\"]\n",
      "  },\n",
      "  \"class_to_probabilities\": {\n",
      "    \"high\": 0.25,\n",
      "    \"medium\": 0.25,\n",
      "    \"low\": 0.5\n",
      "  }\n",
      "}\"],    -- is_valid: all not null\n",
      "    -- child 0 type: string\n",
      "[\"user\",\"assistant\"]\n",
      "    -- child 1 type: string\n",
      "[\"Category: negativity\n",
      "Text: I failed the exam and feel terrible.\",\"{\n",
      "  \"predicted_class\": \"high\",\n",
      "  \"class_to_words\": {\n",
      "    \"high\": [\"failed\", \"terrible\"],\n",
      "    \"medium\": [\"exam\"],\n",
      "    \"low\": [\"feel\"]\n",
      "  },\n",
      "  \"class_to_probabilities\": {\n",
      "    \"high\": 0.6,\n",
      "    \"medium\": 0.3,\n",
      "    \"low\": 0.1\n",
      "  }\n",
      "}\"],...,    -- is_valid: all not null\n",
      "    -- child 0 type: string\n",
      "[\"user\",\"assistant\"]\n",
      "    -- child 1 type: string\n",
      "[\"Category: law\n",
      "Text: Госдума приняла закон об ужесточении наказания за мошенничество.\",\"{\n",
      "  \"predicted_class\": \"high\",\n",
      "  \"class_to_words\": {\n",
      "    \"high\": [\"приняла\", \"ужесточении\"],\n",
      "    \"medium\": [\"Госдума\", \"мошенничество\"],\n",
      "    \"low\": [\"закон\", \"об\"]\n",
      "  },\n",
      "  \"class_to_probabilities\": {\n",
      "    \"high\": 0.75,\n",
      "    \"medium\": 0.2,\n",
      "    \"low\": 0.05\n",
      "  }\n",
      "}\"],    -- is_valid: all not null\n",
      "    -- child 0 type: string\n",
      "[\"user\",\"assistant\"]\n",
      "    -- child 1 type: string\n",
      "[\"Category: weather\n",
      "Text: В центральной России ожидаются сильные снегопады на выходных.\",\"{\n",
      "  \"predicted_class\": \"medium\",\n",
      "  \"class_to_words\": {\n",
      "    \"high\": [\"ожидаются\", \"снегопады\"],\n",
      "    \"medium\": [\"России\", \"выходных\"],\n",
      "    \"low\": [\"В\", \"на\"]\n",
      "  },\n",
      "  \"class_to_probabilities\": {\n",
      "    \"high\": 0.5,\n",
      "    \"medium\": 0.45,\n",
      "    \"low\": 0.05\n",
      "  }\n",
      "}\"]]]\n"
     ]
    },
    {
     "name": "stderr",
     "output_type": "stream",
     "text": [
      "Map:   0%|          | 0/60 [00:00<?, ? examples/s]\n"
     ]
    },
    {
     "ename": "ValueError",
     "evalue": "text input must be of type `str` (single example), `List[str]` (batch or single pretokenized example) or `List[List[str]]` (batch of pretokenized examples).",
     "output_type": "error",
     "traceback": [
      "\u001b[31m---------------------------------------------------------------------------\u001b[39m",
      "\u001b[31mValueError\u001b[39m                                Traceback (most recent call last)",
      "\u001b[36mCell\u001b[39m\u001b[36m \u001b[39m\u001b[32mIn[27]\u001b[39m\u001b[32m, line 12\u001b[39m\n\u001b[32m      1\u001b[39m \u001b[38;5;66;03m# def process_dataset(sample):\u001b[39;00m\n\u001b[32m      2\u001b[39m \u001b[38;5;66;03m#     sample = tokenizer.apply_chat_template(\u001b[39;00m\n\u001b[32m      3\u001b[39m \u001b[38;5;66;03m#         sample[\"messages\"],\u001b[39;00m\n\u001b[32m   (...)\u001b[39m\u001b[32m      9\u001b[39m \n\u001b[32m     10\u001b[39m \u001b[38;5;66;03m#     return {\"text\": sample}\u001b[39;00m\n\u001b[32m     11\u001b[39m \u001b[38;5;28mprint\u001b[39m(dataset.data)\n\u001b[32m---> \u001b[39m\u001b[32m12\u001b[39m tokenized_dataset = \u001b[43mdataset\u001b[49m\u001b[43m.\u001b[49m\u001b[43mmap\u001b[49m\u001b[43m(\u001b[49m\u001b[38;5;28;43;01mlambda\u001b[39;49;00m\u001b[43m \u001b[49m\u001b[43msamples\u001b[49m\u001b[43m:\u001b[49m\u001b[43m \u001b[49m\u001b[43mtokenizer\u001b[49m\u001b[43m(\u001b[49m\u001b[43msamples\u001b[49m\u001b[43m[\u001b[49m\u001b[33;43m\"\u001b[39;49m\u001b[33;43mmessages\u001b[39;49m\u001b[33;43m\"\u001b[39;49m\u001b[43m]\u001b[49m\u001b[43m)\u001b[49m\u001b[43m,\u001b[49m\u001b[43m \u001b[49m\u001b[43mbatched\u001b[49m\u001b[43m=\u001b[49m\u001b[38;5;28;43;01mTrue\u001b[39;49;00m\u001b[43m)\u001b[49m\n\u001b[32m     13\u001b[39m \u001b[38;5;66;03m# tokenized_dataset = dataset.map(process_dataset, batched=True)\u001b[39;00m\n",
      "\u001b[36mFile \u001b[39m\u001b[32mc:\\Users\\pafin\\projects\\source-analyzer\\.venv\\Lib\\site-packages\\datasets\\arrow_dataset.py:557\u001b[39m, in \u001b[36mtransmit_format.<locals>.wrapper\u001b[39m\u001b[34m(*args, **kwargs)\u001b[39m\n\u001b[32m    550\u001b[39m self_format = {\n\u001b[32m    551\u001b[39m     \u001b[33m\"\u001b[39m\u001b[33mtype\u001b[39m\u001b[33m\"\u001b[39m: \u001b[38;5;28mself\u001b[39m._format_type,\n\u001b[32m    552\u001b[39m     \u001b[33m\"\u001b[39m\u001b[33mformat_kwargs\u001b[39m\u001b[33m\"\u001b[39m: \u001b[38;5;28mself\u001b[39m._format_kwargs,\n\u001b[32m    553\u001b[39m     \u001b[33m\"\u001b[39m\u001b[33mcolumns\u001b[39m\u001b[33m\"\u001b[39m: \u001b[38;5;28mself\u001b[39m._format_columns,\n\u001b[32m    554\u001b[39m     \u001b[33m\"\u001b[39m\u001b[33moutput_all_columns\u001b[39m\u001b[33m\"\u001b[39m: \u001b[38;5;28mself\u001b[39m._output_all_columns,\n\u001b[32m    555\u001b[39m }\n\u001b[32m    556\u001b[39m \u001b[38;5;66;03m# apply actual function\u001b[39;00m\n\u001b[32m--> \u001b[39m\u001b[32m557\u001b[39m out: Union[\u001b[33m\"\u001b[39m\u001b[33mDataset\u001b[39m\u001b[33m\"\u001b[39m, \u001b[33m\"\u001b[39m\u001b[33mDatasetDict\u001b[39m\u001b[33m\"\u001b[39m] = \u001b[43mfunc\u001b[49m\u001b[43m(\u001b[49m\u001b[38;5;28;43mself\u001b[39;49m\u001b[43m,\u001b[49m\u001b[43m \u001b[49m\u001b[43m*\u001b[49m\u001b[43margs\u001b[49m\u001b[43m,\u001b[49m\u001b[43m \u001b[49m\u001b[43m*\u001b[49m\u001b[43m*\u001b[49m\u001b[43mkwargs\u001b[49m\u001b[43m)\u001b[49m\n\u001b[32m    558\u001b[39m datasets: \u001b[38;5;28mlist\u001b[39m[\u001b[33m\"\u001b[39m\u001b[33mDataset\u001b[39m\u001b[33m\"\u001b[39m] = \u001b[38;5;28mlist\u001b[39m(out.values()) \u001b[38;5;28;01mif\u001b[39;00m \u001b[38;5;28misinstance\u001b[39m(out, \u001b[38;5;28mdict\u001b[39m) \u001b[38;5;28;01melse\u001b[39;00m [out]\n\u001b[32m    559\u001b[39m \u001b[38;5;66;03m# re-apply format to the output\u001b[39;00m\n",
      "\u001b[36mFile \u001b[39m\u001b[32mc:\\Users\\pafin\\projects\\source-analyzer\\.venv\\Lib\\site-packages\\datasets\\arrow_dataset.py:3074\u001b[39m, in \u001b[36mDataset.map\u001b[39m\u001b[34m(self, function, with_indices, with_rank, input_columns, batched, batch_size, drop_last_batch, remove_columns, keep_in_memory, load_from_cache_file, cache_file_name, writer_batch_size, features, disable_nullable, fn_kwargs, num_proc, suffix_template, new_fingerprint, desc)\u001b[39m\n\u001b[32m   3068\u001b[39m \u001b[38;5;28;01mif\u001b[39;00m transformed_dataset \u001b[38;5;129;01mis\u001b[39;00m \u001b[38;5;28;01mNone\u001b[39;00m:\n\u001b[32m   3069\u001b[39m     \u001b[38;5;28;01mwith\u001b[39;00m hf_tqdm(\n\u001b[32m   3070\u001b[39m         unit=\u001b[33m\"\u001b[39m\u001b[33m examples\u001b[39m\u001b[33m\"\u001b[39m,\n\u001b[32m   3071\u001b[39m         total=pbar_total,\n\u001b[32m   3072\u001b[39m         desc=desc \u001b[38;5;129;01mor\u001b[39;00m \u001b[33m\"\u001b[39m\u001b[33mMap\u001b[39m\u001b[33m\"\u001b[39m,\n\u001b[32m   3073\u001b[39m     ) \u001b[38;5;28;01mas\u001b[39;00m pbar:\n\u001b[32m-> \u001b[39m\u001b[32m3074\u001b[39m \u001b[43m        \u001b[49m\u001b[38;5;28;43;01mfor\u001b[39;49;00m\u001b[43m \u001b[49m\u001b[43mrank\u001b[49m\u001b[43m,\u001b[49m\u001b[43m \u001b[49m\u001b[43mdone\u001b[49m\u001b[43m,\u001b[49m\u001b[43m \u001b[49m\u001b[43mcontent\u001b[49m\u001b[43m \u001b[49m\u001b[38;5;129;43;01min\u001b[39;49;00m\u001b[43m \u001b[49m\u001b[43mDataset\u001b[49m\u001b[43m.\u001b[49m\u001b[43m_map_single\u001b[49m\u001b[43m(\u001b[49m\u001b[43m*\u001b[49m\u001b[43m*\u001b[49m\u001b[43mdataset_kwargs\u001b[49m\u001b[43m)\u001b[49m\u001b[43m:\u001b[49m\n\u001b[32m   3075\u001b[39m \u001b[43m            \u001b[49m\u001b[38;5;28;43;01mif\u001b[39;49;00m\u001b[43m \u001b[49m\u001b[43mdone\u001b[49m\u001b[43m:\u001b[49m\n\u001b[32m   3076\u001b[39m \u001b[43m                \u001b[49m\u001b[43mshards_done\u001b[49m\u001b[43m \u001b[49m\u001b[43m+\u001b[49m\u001b[43m=\u001b[49m\u001b[43m \u001b[49m\u001b[32;43m1\u001b[39;49m\n",
      "\u001b[36mFile \u001b[39m\u001b[32mc:\\Users\\pafin\\projects\\source-analyzer\\.venv\\Lib\\site-packages\\datasets\\arrow_dataset.py:3516\u001b[39m, in \u001b[36mDataset._map_single\u001b[39m\u001b[34m(shard, function, with_indices, with_rank, input_columns, batched, batch_size, drop_last_batch, remove_columns, keep_in_memory, cache_file_name, writer_batch_size, features, disable_nullable, fn_kwargs, new_fingerprint, rank, offset)\u001b[39m\n\u001b[32m   3514\u001b[39m \u001b[38;5;28;01melse\u001b[39;00m:\n\u001b[32m   3515\u001b[39m     _time = time.time()\n\u001b[32m-> \u001b[39m\u001b[32m3516\u001b[39m \u001b[43m    \u001b[49m\u001b[38;5;28;43;01mfor\u001b[39;49;00m\u001b[43m \u001b[49m\u001b[43mi\u001b[49m\u001b[43m,\u001b[49m\u001b[43m \u001b[49m\u001b[43mbatch\u001b[49m\u001b[43m \u001b[49m\u001b[38;5;129;43;01min\u001b[39;49;00m\u001b[43m \u001b[49m\u001b[43miter_outputs\u001b[49m\u001b[43m(\u001b[49m\u001b[43mshard_iterable\u001b[49m\u001b[43m)\u001b[49m\u001b[43m:\u001b[49m\n\u001b[32m   3517\u001b[39m \u001b[43m        \u001b[49m\u001b[43mnum_examples_in_batch\u001b[49m\u001b[43m \u001b[49m\u001b[43m=\u001b[49m\u001b[43m \u001b[49m\u001b[38;5;28;43mlen\u001b[39;49m\u001b[43m(\u001b[49m\u001b[43mi\u001b[49m\u001b[43m)\u001b[49m\n\u001b[32m   3518\u001b[39m \u001b[43m        \u001b[49m\u001b[38;5;28;43;01mif\u001b[39;49;00m\u001b[43m \u001b[49m\u001b[43mupdate_data\u001b[49m\u001b[43m:\u001b[49m\n",
      "\u001b[36mFile \u001b[39m\u001b[32mc:\\Users\\pafin\\projects\\source-analyzer\\.venv\\Lib\\site-packages\\datasets\\arrow_dataset.py:3466\u001b[39m, in \u001b[36mDataset._map_single.<locals>.iter_outputs\u001b[39m\u001b[34m(shard_iterable)\u001b[39m\n\u001b[32m   3464\u001b[39m \u001b[38;5;28;01melse\u001b[39;00m:\n\u001b[32m   3465\u001b[39m     \u001b[38;5;28;01mfor\u001b[39;00m i, example \u001b[38;5;129;01min\u001b[39;00m shard_iterable:\n\u001b[32m-> \u001b[39m\u001b[32m3466\u001b[39m         \u001b[38;5;28;01myield\u001b[39;00m i, \u001b[43mapply_function\u001b[49m\u001b[43m(\u001b[49m\u001b[43mexample\u001b[49m\u001b[43m,\u001b[49m\u001b[43m \u001b[49m\u001b[43mi\u001b[49m\u001b[43m,\u001b[49m\u001b[43m \u001b[49m\u001b[43moffset\u001b[49m\u001b[43m=\u001b[49m\u001b[43moffset\u001b[49m\u001b[43m)\u001b[49m\n",
      "\u001b[36mFile \u001b[39m\u001b[32mc:\\Users\\pafin\\projects\\source-analyzer\\.venv\\Lib\\site-packages\\datasets\\arrow_dataset.py:3389\u001b[39m, in \u001b[36mDataset._map_single.<locals>.apply_function\u001b[39m\u001b[34m(pa_inputs, indices, offset)\u001b[39m\n\u001b[32m   3387\u001b[39m \u001b[38;5;250m\u001b[39m\u001b[33;03m\"\"\"Utility to apply the function on a selection of columns.\"\"\"\u001b[39;00m\n\u001b[32m   3388\u001b[39m inputs, fn_args, additional_args, fn_kwargs = prepare_inputs(pa_inputs, indices, offset=offset)\n\u001b[32m-> \u001b[39m\u001b[32m3389\u001b[39m processed_inputs = \u001b[43mfunction\u001b[49m\u001b[43m(\u001b[49m\u001b[43m*\u001b[49m\u001b[43mfn_args\u001b[49m\u001b[43m,\u001b[49m\u001b[43m \u001b[49m\u001b[43m*\u001b[49m\u001b[43madditional_args\u001b[49m\u001b[43m,\u001b[49m\u001b[43m \u001b[49m\u001b[43m*\u001b[49m\u001b[43m*\u001b[49m\u001b[43mfn_kwargs\u001b[49m\u001b[43m)\u001b[49m\n\u001b[32m   3390\u001b[39m \u001b[38;5;28;01mreturn\u001b[39;00m prepare_outputs(pa_inputs, inputs, processed_inputs)\n",
      "\u001b[36mCell\u001b[39m\u001b[36m \u001b[39m\u001b[32mIn[27]\u001b[39m\u001b[32m, line 12\u001b[39m, in \u001b[36m<lambda>\u001b[39m\u001b[34m(samples)\u001b[39m\n\u001b[32m      1\u001b[39m \u001b[38;5;66;03m# def process_dataset(sample):\u001b[39;00m\n\u001b[32m      2\u001b[39m \u001b[38;5;66;03m#     sample = tokenizer.apply_chat_template(\u001b[39;00m\n\u001b[32m      3\u001b[39m \u001b[38;5;66;03m#         sample[\"messages\"],\u001b[39;00m\n\u001b[32m   (...)\u001b[39m\u001b[32m      9\u001b[39m \n\u001b[32m     10\u001b[39m \u001b[38;5;66;03m#     return {\"text\": sample}\u001b[39;00m\n\u001b[32m     11\u001b[39m \u001b[38;5;28mprint\u001b[39m(dataset.data)\n\u001b[32m---> \u001b[39m\u001b[32m12\u001b[39m tokenized_dataset = dataset.map(\u001b[38;5;28;01mlambda\u001b[39;00m samples: \u001b[43mtokenizer\u001b[49m\u001b[43m(\u001b[49m\u001b[43msamples\u001b[49m\u001b[43m[\u001b[49m\u001b[33;43m\"\u001b[39;49m\u001b[33;43mmessages\u001b[39;49m\u001b[33;43m\"\u001b[39;49m\u001b[43m]\u001b[49m\u001b[43m)\u001b[49m, batched=\u001b[38;5;28;01mTrue\u001b[39;00m)\n\u001b[32m     13\u001b[39m \u001b[38;5;66;03m# tokenized_dataset = dataset.map(process_dataset, batched=True)\u001b[39;00m\n",
      "\u001b[36mFile \u001b[39m\u001b[32mc:\\Users\\pafin\\projects\\source-analyzer\\.venv\\Lib\\site-packages\\transformers\\tokenization_utils_base.py:2887\u001b[39m, in \u001b[36mPreTrainedTokenizerBase.__call__\u001b[39m\u001b[34m(self, text, text_pair, text_target, text_pair_target, add_special_tokens, padding, truncation, max_length, stride, is_split_into_words, pad_to_multiple_of, padding_side, return_tensors, return_token_type_ids, return_attention_mask, return_overflowing_tokens, return_special_tokens_mask, return_offsets_mapping, return_length, verbose, **kwargs)\u001b[39m\n\u001b[32m   2885\u001b[39m     \u001b[38;5;28;01mif\u001b[39;00m \u001b[38;5;129;01mnot\u001b[39;00m \u001b[38;5;28mself\u001b[39m._in_target_context_manager:\n\u001b[32m   2886\u001b[39m         \u001b[38;5;28mself\u001b[39m._switch_to_input_mode()\n\u001b[32m-> \u001b[39m\u001b[32m2887\u001b[39m     encodings = \u001b[38;5;28;43mself\u001b[39;49m\u001b[43m.\u001b[49m\u001b[43m_call_one\u001b[49m\u001b[43m(\u001b[49m\u001b[43mtext\u001b[49m\u001b[43m=\u001b[49m\u001b[43mtext\u001b[49m\u001b[43m,\u001b[49m\u001b[43m \u001b[49m\u001b[43mtext_pair\u001b[49m\u001b[43m=\u001b[49m\u001b[43mtext_pair\u001b[49m\u001b[43m,\u001b[49m\u001b[43m \u001b[49m\u001b[43m*\u001b[49m\u001b[43m*\u001b[49m\u001b[43mall_kwargs\u001b[49m\u001b[43m)\u001b[49m\n\u001b[32m   2888\u001b[39m \u001b[38;5;28;01mif\u001b[39;00m text_target \u001b[38;5;129;01mis\u001b[39;00m \u001b[38;5;129;01mnot\u001b[39;00m \u001b[38;5;28;01mNone\u001b[39;00m:\n\u001b[32m   2889\u001b[39m     \u001b[38;5;28mself\u001b[39m._switch_to_target_mode()\n",
      "\u001b[36mFile \u001b[39m\u001b[32mc:\\Users\\pafin\\projects\\source-analyzer\\.venv\\Lib\\site-packages\\transformers\\tokenization_utils_base.py:2947\u001b[39m, in \u001b[36mPreTrainedTokenizerBase._call_one\u001b[39m\u001b[34m(self, text, text_pair, add_special_tokens, padding, truncation, max_length, stride, is_split_into_words, pad_to_multiple_of, padding_side, return_tensors, return_token_type_ids, return_attention_mask, return_overflowing_tokens, return_special_tokens_mask, return_offsets_mapping, return_length, verbose, split_special_tokens, **kwargs)\u001b[39m\n\u001b[32m   2944\u001b[39m         \u001b[38;5;28;01mreturn\u001b[39;00m \u001b[38;5;28;01mFalse\u001b[39;00m\n\u001b[32m   2946\u001b[39m \u001b[38;5;28;01mif\u001b[39;00m \u001b[38;5;129;01mnot\u001b[39;00m _is_valid_text_input(text):\n\u001b[32m-> \u001b[39m\u001b[32m2947\u001b[39m     \u001b[38;5;28;01mraise\u001b[39;00m \u001b[38;5;167;01mValueError\u001b[39;00m(\n\u001b[32m   2948\u001b[39m         \u001b[33m\"\u001b[39m\u001b[33mtext input must be of type `str` (single example), `List[str]` (batch or single pretokenized example) \u001b[39m\u001b[33m\"\u001b[39m\n\u001b[32m   2949\u001b[39m         \u001b[33m\"\u001b[39m\u001b[33mor `List[List[str]]` (batch of pretokenized examples).\u001b[39m\u001b[33m\"\u001b[39m\n\u001b[32m   2950\u001b[39m     )\n\u001b[32m   2952\u001b[39m \u001b[38;5;28;01mif\u001b[39;00m text_pair \u001b[38;5;129;01mis\u001b[39;00m \u001b[38;5;129;01mnot\u001b[39;00m \u001b[38;5;28;01mNone\u001b[39;00m \u001b[38;5;129;01mand\u001b[39;00m \u001b[38;5;129;01mnot\u001b[39;00m _is_valid_text_input(text_pair):\n\u001b[32m   2953\u001b[39m     \u001b[38;5;28;01mraise\u001b[39;00m \u001b[38;5;167;01mValueError\u001b[39;00m(\n\u001b[32m   2954\u001b[39m         \u001b[33m\"\u001b[39m\u001b[33mtext input must be of type `str` (single example), `List[str]` (batch or single pretokenized example) \u001b[39m\u001b[33m\"\u001b[39m\n\u001b[32m   2955\u001b[39m         \u001b[33m\"\u001b[39m\u001b[33mor `List[List[str]]` (batch of pretokenized examples).\u001b[39m\u001b[33m\"\u001b[39m\n\u001b[32m   2956\u001b[39m     )\n",
      "\u001b[31mValueError\u001b[39m: text input must be of type `str` (single example), `List[str]` (batch or single pretokenized example) or `List[List[str]]` (batch of pretokenized examples)."
     ]
    }
   ],
   "source": [
    "# def process_dataset(sample):\n",
    "#     sample = tokenizer.apply_chat_template(\n",
    "#         sample[\"messages\"],\n",
    "#         tokenize=True,\n",
    "#         truncation=True,\n",
    "#         padding=\"max_length\",\n",
    "#         max_length=512,\n",
    "#     )\n",
    "\n",
    "#     return {\"text\": sample}\n",
    "print(dataset.data)\n",
    "tokenized_dataset = dataset.map(\n",
    "    lambda samples: tokenizer(samples[\"messages\"]), batched=True\n",
    ")\n",
    "# tokenized_dataset = dataset.map(process_dataset, batched=True)"
   ]
  },
  {
   "cell_type": "code",
   "execution_count": 7,
   "id": "f92f7372",
   "metadata": {},
   "outputs": [
    {
     "name": "stdout",
     "output_type": "stream",
     "text": [
      "[\n",
      "  {\n",
      "    \"role\": \"user\",\n",
      "    \"content\": \"Category: positivity\\nText: the weather is good tonight, but im too tired.\"\n",
      "  },\n",
      "  {\n",
      "    \"role\": \"assistant\",\n",
      "    \"content\": \"{\\n  \\\"predicted_class\\\": \\\"low\\\",\\n  \\\"class_to_words\\\": {\\n    \\\"high\\\": [\\\"good\\\"],\\n    \\\"medium\\\": [\\\"tonight\\\"],\\n    \\\"low\\\": [\\\"tired\\\", \\\"but\\\"]\\n  },\\n  \\\"class_to_probabilities\\\": {\\n    \\\"high\\\": 0.25,\\n    \\\"medium\\\": 0.25,\\n    \\\"low\\\": 0.5\\n  }\\n}\"\n",
      "  }\n",
      "]\n",
      "[\n",
      "  {\n",
      "    \"role\": \"user\",\n",
      "    \"content\": \"Category: negativity\\nText: I failed the exam and feel terrible.\"\n",
      "  },\n",
      "  {\n",
      "    \"role\": \"assistant\",\n",
      "    \"content\": \"{\\n  \\\"predicted_class\\\": \\\"high\\\",\\n  \\\"class_to_words\\\": {\\n    \\\"high\\\": [\\\"failed\\\", \\\"terrible\\\"],\\n    \\\"medium\\\": [\\\"exam\\\"],\\n    \\\"low\\\": [\\\"feel\\\"]\\n  },\\n  \\\"class_to_probabilities\\\": {\\n    \\\"high\\\": 0.6,\\n    \\\"medium\\\": 0.3,\\n    \\\"low\\\": 0.1\\n  }\\n}\"\n",
      "  }\n",
      "]\n",
      "[\n",
      "  {\n",
      "    \"role\": \"user\",\n",
      "    \"content\": \"Category: excitement\\nText: I can't wait for the concert! It's going to be amazing!\"\n",
      "  },\n",
      "  {\n",
      "    \"role\": \"assistant\",\n",
      "    \"content\": \"{\\n  \\\"predicted_class\\\": \\\"high\\\",\\n  \\\"class_to_words\\\": {\\n    \\\"high\\\": [\\\"can't wait\\\", \\\"amazing\\\"],\\n    \\\"medium\\\": [\\\"concert\\\"],\\n    \\\"low\\\": [\\\"going\\\"]\\n  },\\n  \\\"class_to_probabilities\\\": {\\n    \\\"high\\\": 0.7,\\n    \\\"medium\\\": 0.2,\\n    \\\"low\\\": 0.1\\n  }\\n}\"\n",
      "  }\n",
      "]\n"
     ]
    }
   ],
   "source": [
    "# Пример: вывод первых 3 элементов\n",
    "for example in tokenized_dataset[:3][\"messages\"]:\n",
    "    print(json.dumps(example, indent=2, ensure_ascii=False))"
   ]
  },
  {
   "cell_type": "code",
   "execution_count": 8,
   "id": "05dafa24",
   "metadata": {},
   "outputs": [],
   "source": [
    "import torch\n",
    "\n",
    "torch.cuda.is_available()\n",
    "\n",
    "torch.cuda.empty_cache()"
   ]
  },
  {
   "cell_type": "code",
   "execution_count": null,
   "id": "45c825c1",
   "metadata": {},
   "outputs": [
    {
     "ename": "NameError",
     "evalue": "name 'Accelerator' is not defined",
     "output_type": "error",
     "traceback": [
      "\u001b[31m---------------------------------------------------------------------------\u001b[39m",
      "\u001b[31mNameError\u001b[39m                                 Traceback (most recent call last)",
      "\u001b[36mCell\u001b[39m\u001b[36m \u001b[39m\u001b[32mIn[9]\u001b[39m\u001b[32m, line 1\u001b[39m\n\u001b[32m----> \u001b[39m\u001b[32m1\u001b[39m accelerator = \u001b[43mAccelerator\u001b[49m()\n\u001b[32m      2\u001b[39m device_name = \u001b[33m\"\u001b[39m\u001b[33mcuda\u001b[39m\u001b[33m\"\u001b[39m \u001b[38;5;28;01mif\u001b[39;00m cuda.is_available() \u001b[38;5;28;01melse\u001b[39;00m \u001b[33m\"\u001b[39m\u001b[33mcpu\u001b[39m\u001b[33m\"\u001b[39m\n\u001b[32m      3\u001b[39m device = accelerator.prepare(device_name)\n",
      "\u001b[31mNameError\u001b[39m: name 'Accelerator' is not defined"
     ]
    }
   ],
   "source": [
    "# accelerator = Accelerator()\n",
    "# device_name = \"cuda\" if cuda.is_available() else \"cpu\"\n",
    "# device = accelerator.prepare(device_name)"
   ]
  },
  {
   "cell_type": "code",
   "execution_count": 25,
   "id": "b40406e0",
   "metadata": {},
   "outputs": [
    {
     "ename": "AttributeError",
     "evalue": "'DataFrame' object has no attribute 'to'",
     "output_type": "error",
     "traceback": [
      "\u001b[31m---------------------------------------------------------------------------\u001b[39m",
      "\u001b[31mAttributeError\u001b[39m                            Traceback (most recent call last)",
      "\u001b[32m~\\AppData\\Local\\Temp\\ipykernel_13248\\2046039043.py\u001b[39m in \u001b[36m?\u001b[39m\u001b[34m()\u001b[39m\n\u001b[32m----> \u001b[39m\u001b[32m1\u001b[39m tokenized_dataset.to_pandas().to(dveice)\n",
      "\u001b[32mc:\\Users\\pafin\\projects\\source-analyzer\\.venv\\Lib\\site-packages\\pandas\\core\\generic.py\u001b[39m in \u001b[36m?\u001b[39m\u001b[34m(self, name)\u001b[39m\n\u001b[32m   6295\u001b[39m             \u001b[38;5;28;01mand\u001b[39;00m name \u001b[38;5;28;01mnot\u001b[39;00m \u001b[38;5;28;01min\u001b[39;00m self._accessors\n\u001b[32m   6296\u001b[39m             \u001b[38;5;28;01mand\u001b[39;00m self._info_axis._can_hold_identifiers_and_holds_name(name)\n\u001b[32m   6297\u001b[39m         ):\n\u001b[32m   6298\u001b[39m             \u001b[38;5;28;01mreturn\u001b[39;00m self[name]\n\u001b[32m-> \u001b[39m\u001b[32m6299\u001b[39m         \u001b[38;5;28;01mreturn\u001b[39;00m object.__getattribute__(self, name)\n",
      "\u001b[31mAttributeError\u001b[39m: 'DataFrame' object has no attribute 'to'"
     ]
    }
   ],
   "source": [
    "tokenized_dataset.to_pandas().to(dveice)"
   ]
  },
  {
   "cell_type": "code",
   "execution_count": 20,
   "id": "e983c6a4",
   "metadata": {},
   "outputs": [
    {
     "name": "stderr",
     "output_type": "stream",
     "text": [
      "No label_names provided for model class `PeftModelForCausalLM`. Since `PeftModel` hides base models input arguments, if label_names is not given, label_names can't be set automatically within `Trainer`. Note that empty label_names list will be used instead.\n"
     ]
    }
   ],
   "source": [
    "from transformers import DataCollatorForLanguageModeling, Trainer, TrainingArguments\n",
    "\n",
    "# Настройки обучения\n",
    "training_args = TrainingArguments(\n",
    "    per_device_train_batch_size=1,\n",
    "    gradient_accumulation_steps=4,\n",
    "    warmup_steps=2,\n",
    "    max_steps=10,\n",
    "    learning_rate=2e-4,\n",
    "    fp16=True,\n",
    "    logging_steps=1,\n",
    "    output_dir=\"outputs\",\n",
    "    optim=\"paged_adamw_8bit\",  # позволяет снизить нагрузку на gpu память и ускорить работу\n",
    "    report_to=\"none\",\n",
    "    # remove_unused_columns=False,\n",
    ")\n",
    "\n",
    "# Инициализация Trainer\n",
    "trainer = Trainer(\n",
    "    model=model,\n",
    "    args=training_args,\n",
    "    train_dataset=tokenized_dataset[\"text\"],\n",
    "    processing_class=tokenizer,\n",
    "    # tokenizer=tokenizer,\n",
    "    data_collator=DataCollatorForLanguageModeling(tokenizer, mlm=False),\n",
    ")\n",
    "\n",
    "model.config.use_cache = False  # silence the warnings. Please re-enable for inference!"
   ]
  },
  {
   "cell_type": "code",
   "execution_count": 21,
   "id": "4a5c92a5",
   "metadata": {},
   "outputs": [
    {
     "ename": "TypeError",
     "evalue": "device() received an invalid combination of arguments - got (NoneType), but expected one of:\n * (torch.device device)\n      didn't match because some of the arguments have invalid types: (!NoneType!)\n * (str type, int index = -1)\n",
     "output_type": "error",
     "traceback": [
      "\u001b[31m---------------------------------------------------------------------------\u001b[39m",
      "\u001b[31mTypeError\u001b[39m                                 Traceback (most recent call last)",
      "\u001b[36mCell\u001b[39m\u001b[36m \u001b[39m\u001b[32mIn[21]\u001b[39m\u001b[32m, line 2\u001b[39m\n\u001b[32m      1\u001b[39m \u001b[38;5;66;03m# Запуск обучения\u001b[39;00m\n\u001b[32m----> \u001b[39m\u001b[32m2\u001b[39m \u001b[43mtrainer\u001b[49m\u001b[43m.\u001b[49m\u001b[43mtrain\u001b[49m\u001b[43m(\u001b[49m\u001b[43m)\u001b[49m\n",
      "\u001b[36mFile \u001b[39m\u001b[32mc:\\Users\\pafin\\projects\\source-analyzer\\.venv\\Lib\\site-packages\\transformers\\trainer.py:2245\u001b[39m, in \u001b[36mTrainer.train\u001b[39m\u001b[34m(self, resume_from_checkpoint, trial, ignore_keys_for_eval, **kwargs)\u001b[39m\n\u001b[32m   2243\u001b[39m         hf_hub_utils.enable_progress_bars()\n\u001b[32m   2244\u001b[39m \u001b[38;5;28;01melse\u001b[39;00m:\n\u001b[32m-> \u001b[39m\u001b[32m2245\u001b[39m     \u001b[38;5;28;01mreturn\u001b[39;00m \u001b[43minner_training_loop\u001b[49m\u001b[43m(\u001b[49m\n\u001b[32m   2246\u001b[39m \u001b[43m        \u001b[49m\u001b[43margs\u001b[49m\u001b[43m=\u001b[49m\u001b[43margs\u001b[49m\u001b[43m,\u001b[49m\n\u001b[32m   2247\u001b[39m \u001b[43m        \u001b[49m\u001b[43mresume_from_checkpoint\u001b[49m\u001b[43m=\u001b[49m\u001b[43mresume_from_checkpoint\u001b[49m\u001b[43m,\u001b[49m\n\u001b[32m   2248\u001b[39m \u001b[43m        \u001b[49m\u001b[43mtrial\u001b[49m\u001b[43m=\u001b[49m\u001b[43mtrial\u001b[49m\u001b[43m,\u001b[49m\n\u001b[32m   2249\u001b[39m \u001b[43m        \u001b[49m\u001b[43mignore_keys_for_eval\u001b[49m\u001b[43m=\u001b[49m\u001b[43mignore_keys_for_eval\u001b[49m\u001b[43m,\u001b[49m\n\u001b[32m   2250\u001b[39m \u001b[43m    \u001b[49m\u001b[43m)\u001b[49m\n",
      "\u001b[36mFile \u001b[39m\u001b[32mc:\\Users\\pafin\\projects\\source-analyzer\\.venv\\Lib\\site-packages\\transformers\\trainer.py:2374\u001b[39m, in \u001b[36mTrainer._inner_training_loop\u001b[39m\u001b[34m(self, batch_size, args, resume_from_checkpoint, trial, ignore_keys_for_eval)\u001b[39m\n\u001b[32m   2372\u001b[39m         model = \u001b[38;5;28mself\u001b[39m.accelerator.prepare(\u001b[38;5;28mself\u001b[39m.model)\n\u001b[32m   2373\u001b[39m     \u001b[38;5;28;01melse\u001b[39;00m:\n\u001b[32m-> \u001b[39m\u001b[32m2374\u001b[39m         model, \u001b[38;5;28mself\u001b[39m.optimizer = \u001b[38;5;28;43mself\u001b[39;49m\u001b[43m.\u001b[49m\u001b[43maccelerator\u001b[49m\u001b[43m.\u001b[49m\u001b[43mprepare\u001b[49m\u001b[43m(\u001b[49m\u001b[38;5;28;43mself\u001b[39;49m\u001b[43m.\u001b[49m\u001b[43mmodel\u001b[49m\u001b[43m,\u001b[49m\u001b[43m \u001b[49m\u001b[38;5;28;43mself\u001b[39;49m\u001b[43m.\u001b[49m\u001b[43moptimizer\u001b[49m\u001b[43m)\u001b[49m\n\u001b[32m   2375\u001b[39m \u001b[38;5;28;01melse\u001b[39;00m:\n\u001b[32m   2376\u001b[39m     \u001b[38;5;66;03m# to handle cases wherein we pass \"DummyScheduler\" such as when it is specified in DeepSpeed config.\u001b[39;00m\n\u001b[32m   2377\u001b[39m     model, \u001b[38;5;28mself\u001b[39m.optimizer, \u001b[38;5;28mself\u001b[39m.lr_scheduler = \u001b[38;5;28mself\u001b[39m.accelerator.prepare(\n\u001b[32m   2378\u001b[39m         \u001b[38;5;28mself\u001b[39m.model, \u001b[38;5;28mself\u001b[39m.optimizer, \u001b[38;5;28mself\u001b[39m.lr_scheduler\n\u001b[32m   2379\u001b[39m     )\n",
      "\u001b[36mFile \u001b[39m\u001b[32mc:\\Users\\pafin\\projects\\source-analyzer\\.venv\\Lib\\site-packages\\accelerate\\accelerator.py:1446\u001b[39m, in \u001b[36mAccelerator.prepare\u001b[39m\u001b[34m(self, device_placement, *args)\u001b[39m\n\u001b[32m   1444\u001b[39m     \u001b[38;5;28;01mif\u001b[39;00m \u001b[38;5;28mself\u001b[39m.fp8_backend == \u001b[33m\"\u001b[39m\u001b[33mMSAMP\u001b[39m\u001b[33m\"\u001b[39m:\n\u001b[32m   1445\u001b[39m         args, device_placement = \u001b[38;5;28mself\u001b[39m._prepare_msamp(*args, device_placement=device_placement)\n\u001b[32m-> \u001b[39m\u001b[32m1446\u001b[39m     result = \u001b[38;5;28;43mtuple\u001b[39;49m\u001b[43m(\u001b[49m\n\u001b[32m   1447\u001b[39m \u001b[43m        \u001b[49m\u001b[38;5;28;43mself\u001b[39;49m\u001b[43m.\u001b[49m\u001b[43m_prepare_one\u001b[49m\u001b[43m(\u001b[49m\u001b[43mobj\u001b[49m\u001b[43m,\u001b[49m\u001b[43m \u001b[49m\u001b[43mfirst_pass\u001b[49m\u001b[43m=\u001b[49m\u001b[38;5;28;43;01mTrue\u001b[39;49;00m\u001b[43m,\u001b[49m\u001b[43m \u001b[49m\u001b[43mdevice_placement\u001b[49m\u001b[43m=\u001b[49m\u001b[43md\u001b[49m\u001b[43m)\u001b[49m\u001b[43m \u001b[49m\u001b[38;5;28;43;01mfor\u001b[39;49;00m\u001b[43m \u001b[49m\u001b[43mobj\u001b[49m\u001b[43m,\u001b[49m\u001b[43m \u001b[49m\u001b[43md\u001b[49m\u001b[43m \u001b[49m\u001b[38;5;129;43;01min\u001b[39;49;00m\u001b[43m \u001b[49m\u001b[38;5;28;43mzip\u001b[39;49m\u001b[43m(\u001b[49m\u001b[43margs\u001b[49m\u001b[43m,\u001b[49m\u001b[43m \u001b[49m\u001b[43mdevice_placement\u001b[49m\u001b[43m)\u001b[49m\n\u001b[32m   1448\u001b[39m \u001b[43m    \u001b[49m\u001b[43m)\u001b[49m\n\u001b[32m   1449\u001b[39m     result = \u001b[38;5;28mtuple\u001b[39m(\u001b[38;5;28mself\u001b[39m._prepare_one(obj, device_placement=d) \u001b[38;5;28;01mfor\u001b[39;00m obj, d \u001b[38;5;129;01min\u001b[39;00m \u001b[38;5;28mzip\u001b[39m(result, device_placement))\n\u001b[32m   1450\u001b[39m \u001b[38;5;28;01mif\u001b[39;00m should_fix_optimizer:\n\u001b[32m   1451\u001b[39m     \u001b[38;5;66;03m# 2. grabbing new model parameters\u001b[39;00m\n",
      "\u001b[36mFile \u001b[39m\u001b[32mc:\\Users\\pafin\\projects\\source-analyzer\\.venv\\Lib\\site-packages\\accelerate\\accelerator.py:1447\u001b[39m, in \u001b[36m<genexpr>\u001b[39m\u001b[34m(.0)\u001b[39m\n\u001b[32m   1444\u001b[39m     \u001b[38;5;28;01mif\u001b[39;00m \u001b[38;5;28mself\u001b[39m.fp8_backend == \u001b[33m\"\u001b[39m\u001b[33mMSAMP\u001b[39m\u001b[33m\"\u001b[39m:\n\u001b[32m   1445\u001b[39m         args, device_placement = \u001b[38;5;28mself\u001b[39m._prepare_msamp(*args, device_placement=device_placement)\n\u001b[32m   1446\u001b[39m     result = \u001b[38;5;28mtuple\u001b[39m(\n\u001b[32m-> \u001b[39m\u001b[32m1447\u001b[39m         \u001b[38;5;28;43mself\u001b[39;49m\u001b[43m.\u001b[49m\u001b[43m_prepare_one\u001b[49m\u001b[43m(\u001b[49m\u001b[43mobj\u001b[49m\u001b[43m,\u001b[49m\u001b[43m \u001b[49m\u001b[43mfirst_pass\u001b[49m\u001b[43m=\u001b[49m\u001b[38;5;28;43;01mTrue\u001b[39;49;00m\u001b[43m,\u001b[49m\u001b[43m \u001b[49m\u001b[43mdevice_placement\u001b[49m\u001b[43m=\u001b[49m\u001b[43md\u001b[49m\u001b[43m)\u001b[49m \u001b[38;5;28;01mfor\u001b[39;00m obj, d \u001b[38;5;129;01min\u001b[39;00m \u001b[38;5;28mzip\u001b[39m(args, device_placement)\n\u001b[32m   1448\u001b[39m     )\n\u001b[32m   1449\u001b[39m     result = \u001b[38;5;28mtuple\u001b[39m(\u001b[38;5;28mself\u001b[39m._prepare_one(obj, device_placement=d) \u001b[38;5;28;01mfor\u001b[39;00m obj, d \u001b[38;5;129;01min\u001b[39;00m \u001b[38;5;28mzip\u001b[39m(result, device_placement))\n\u001b[32m   1450\u001b[39m \u001b[38;5;28;01mif\u001b[39;00m should_fix_optimizer:\n\u001b[32m   1451\u001b[39m     \u001b[38;5;66;03m# 2. grabbing new model parameters\u001b[39;00m\n",
      "\u001b[36mFile \u001b[39m\u001b[32mc:\\Users\\pafin\\projects\\source-analyzer\\.venv\\Lib\\site-packages\\accelerate\\accelerator.py:1289\u001b[39m, in \u001b[36mAccelerator._prepare_one\u001b[39m\u001b[34m(self, obj, first_pass, device_placement)\u001b[39m\n\u001b[32m   1287\u001b[39m     \u001b[38;5;28;01mreturn\u001b[39;00m \u001b[38;5;28mself\u001b[39m.prepare_data_loader(obj, device_placement=device_placement)\n\u001b[32m   1288\u001b[39m \u001b[38;5;28;01melif\u001b[39;00m \u001b[38;5;28misinstance\u001b[39m(obj, torch.nn.Module):\n\u001b[32m-> \u001b[39m\u001b[32m1289\u001b[39m     \u001b[38;5;28;01mreturn\u001b[39;00m \u001b[38;5;28;43mself\u001b[39;49m\u001b[43m.\u001b[49m\u001b[43mprepare_model\u001b[49m\u001b[43m(\u001b[49m\u001b[43mobj\u001b[49m\u001b[43m,\u001b[49m\u001b[43m \u001b[49m\u001b[43mdevice_placement\u001b[49m\u001b[43m=\u001b[49m\u001b[43mdevice_placement\u001b[49m\u001b[43m)\u001b[49m\n\u001b[32m   1290\u001b[39m \u001b[38;5;28;01melif\u001b[39;00m \u001b[38;5;28misinstance\u001b[39m(obj, torch.optim.Optimizer):\n\u001b[32m   1291\u001b[39m     optimizer = \u001b[38;5;28mself\u001b[39m.prepare_optimizer(obj, device_placement=device_placement)\n",
      "\u001b[36mFile \u001b[39m\u001b[32mc:\\Users\\pafin\\projects\\source-analyzer\\.venv\\Lib\\site-packages\\accelerate\\accelerator.py:1556\u001b[39m, in \u001b[36mAccelerator.prepare_model\u001b[39m\u001b[34m(self, model, device_placement, evaluation_mode)\u001b[39m\n\u001b[32m   1553\u001b[39m \u001b[38;5;28;01mif\u001b[39;00m \u001b[38;5;28mself\u001b[39m.device.type == \u001b[33m\"\u001b[39m\u001b[33mcpu\u001b[39m\u001b[33m\"\u001b[39m \u001b[38;5;129;01mand\u001b[39;00m is_bitsandbytes_multi_backend_available():\n\u001b[32m   1554\u001b[39m     \u001b[38;5;66;03m# bnb with multi-backend supports CPU which don't need to check index.\u001b[39;00m\n\u001b[32m   1555\u001b[39m     \u001b[38;5;28;01mpass\u001b[39;00m\n\u001b[32m-> \u001b[39m\u001b[32m1556\u001b[39m \u001b[38;5;28;01melif\u001b[39;00m \u001b[43mtorch\u001b[49m\u001b[43m.\u001b[49m\u001b[43mdevice\u001b[49m\u001b[43m(\u001b[49m\u001b[43mcurrent_device_index\u001b[49m\u001b[43m)\u001b[49m != \u001b[38;5;28mself\u001b[39m.device:\n\u001b[32m   1557\u001b[39m     \u001b[38;5;66;03m# if on the first device (GPU 0) we don't care\u001b[39;00m\n\u001b[32m   1558\u001b[39m     \u001b[38;5;28;01mif\u001b[39;00m (\u001b[38;5;28mself\u001b[39m.device.index \u001b[38;5;129;01mis\u001b[39;00m \u001b[38;5;129;01mnot\u001b[39;00m \u001b[38;5;28;01mNone\u001b[39;00m) \u001b[38;5;129;01mor\u001b[39;00m (current_device_index != \u001b[32m0\u001b[39m):\n\u001b[32m   1559\u001b[39m         \u001b[38;5;28;01mraise\u001b[39;00m \u001b[38;5;167;01mValueError\u001b[39;00m(\n\u001b[32m   1560\u001b[39m             \u001b[33m\"\u001b[39m\u001b[33mYou can\u001b[39m\u001b[33m'\u001b[39m\u001b[33mt train a model that has been loaded in 8-bit or 4-bit precision on a different device than the one \u001b[39m\u001b[33m\"\u001b[39m\n\u001b[32m   1561\u001b[39m             \u001b[33m\"\u001b[39m\u001b[33myou\u001b[39m\u001b[33m'\u001b[39m\u001b[33mre training on. Make sure you loaded the model on the correct device using for example `device_map=\u001b[39m\u001b[33m{\u001b[39m\u001b[33m'\u001b[39m\u001b[33m'\u001b[39m\u001b[33m:torch.cuda.current_device()}` or `device_map=\u001b[39m\u001b[33m{\u001b[39m\u001b[33m'\u001b[39m\u001b[33m'\u001b[39m\u001b[33m:torch.xpu.current_device()}`\u001b[39m\u001b[33m\"\u001b[39m\n\u001b[32m   1562\u001b[39m         )\n",
      "\u001b[31mTypeError\u001b[39m: device() received an invalid combination of arguments - got (NoneType), but expected one of:\n * (torch.device device)\n      didn't match because some of the arguments have invalid types: (!NoneType!)\n * (str type, int index = -1)\n"
     ]
    }
   ],
   "source": [
    "# Запуск обучения\n",
    "trainer.train()"
   ]
  },
  {
   "cell_type": "code",
   "execution_count": 16,
   "id": "79b5ee3c",
   "metadata": {},
   "outputs": [
    {
     "ename": "NameError",
     "evalue": "name 'tokenized_dataset' is not defined",
     "output_type": "error",
     "traceback": [
      "\u001b[31m---------------------------------------------------------------------------\u001b[39m",
      "\u001b[31mNameError\u001b[39m                                 Traceback (most recent call last)",
      "\u001b[36mCell\u001b[39m\u001b[36m \u001b[39m\u001b[32mIn[16]\u001b[39m\u001b[32m, line 83\u001b[39m\n\u001b[32m     56\u001b[39m \u001b[38;5;66;03m# training_args = TrainingArguments(\u001b[39;00m\n\u001b[32m     57\u001b[39m \u001b[38;5;66;03m#     output_dir=\"./outputs\",\u001b[39;00m\n\u001b[32m     58\u001b[39m \u001b[38;5;66;03m#     per_device_train_batch_size=1,\u001b[39;00m\n\u001b[32m   (...)\u001b[39m\u001b[32m     63\u001b[39m \u001b[38;5;66;03m#     fp16=True,\u001b[39;00m\n\u001b[32m     64\u001b[39m \u001b[38;5;66;03m# )\u001b[39;00m\n\u001b[32m     65\u001b[39m training_args = TrainingArguments(\n\u001b[32m     66\u001b[39m     per_device_train_batch_size=\u001b[32m1\u001b[39m,\n\u001b[32m     67\u001b[39m     gradient_accumulation_steps=\u001b[32m4\u001b[39m,\n\u001b[32m   (...)\u001b[39m\u001b[32m     76\u001b[39m     \u001b[38;5;66;03m# remove_unused_columns=False,\u001b[39;00m\n\u001b[32m     77\u001b[39m )\n\u001b[32m     79\u001b[39m trainer = Trainer(\n\u001b[32m     80\u001b[39m     model=model,\n\u001b[32m     81\u001b[39m     tokenizer=tokenizer,\n\u001b[32m     82\u001b[39m     args=training_args,\n\u001b[32m---> \u001b[39m\u001b[32m83\u001b[39m     train_dataset=\u001b[43mtokenized_dataset\u001b[49m,\n\u001b[32m     84\u001b[39m     data_collator=DataCollatorForLanguageModeling(tokenizer=tokenizer, mlm=\u001b[38;5;28;01mFalse\u001b[39;00m),\n\u001b[32m     85\u001b[39m )\n\u001b[32m     87\u001b[39m trainer.train()\n",
      "\u001b[31mNameError\u001b[39m: name 'tokenized_dataset' is not defined"
     ]
    }
   ],
   "source": [
    "# это работает\n",
    "import os\n",
    "\n",
    "import torch\n",
    "from datasets import Dataset\n",
    "from dotenv import load_dotenv\n",
    "from peft import LoraConfig, get_peft_model, prepare_model_for_kbit_training\n",
    "from transformers import (\n",
    "    AutoModelForCausalLM,\n",
    "    AutoTokenizer,\n",
    "    BitsAndBytesConfig,\n",
    "    DataCollatorForLanguageModeling,\n",
    "    Trainer,\n",
    "    TrainingArguments,\n",
    ")\n",
    "\n",
    "load_dotenv()\n",
    "bnb_config = BitsAndBytesConfig(\n",
    "    load_in_4bit=True,\n",
    "    bnb_4bit_use_double_quant=True,\n",
    "    bnb_4bit_quant_type=\"nf4\",\n",
    "    bnb_4bit_compute_dtype=torch.float16,\n",
    ")\n",
    "\n",
    "model = AutoModelForCausalLM.from_pretrained(\n",
    "    \"gpt2\",\n",
    "    quantization_config=bnb_config,\n",
    "    device_map=\"auto\",\n",
    "    token=os.getenv(\"HF_TOKEN\"),\n",
    ")\n",
    "\n",
    "model = prepare_model_for_kbit_training(model)\n",
    "\n",
    "tokenizer = AutoTokenizer.from_pretrained(\"gpt2\")\n",
    "# for name, module in model.named_modules():\n",
    "#     print(name)\n",
    "config = LoraConfig(\n",
    "    r=8,\n",
    "    lora_alpha=16,\n",
    "    # \"gate_up_proj\", \"down_proj\"\n",
    "    target_modules=[\"c_proj\", \"c_attn\"],\n",
    "    lora_dropout=0.05,\n",
    "    bias=\"none\",\n",
    "    task_type=\"CAUSAL_LM\",\n",
    ")\n",
    "# device = \"cuda\" if torch.cuda.is_available() else \"cpu\"\n",
    "# model.unload()\n",
    "model = get_peft_model(model, config)\n",
    "# print_trainable_parameters(model)\n",
    "tokenizer.pad_token = tokenizer.eos_token\n",
    "\n",
    "texts = [\"Hello world\", \"How are you?\"]\n",
    "inputs = tokenizer(texts, return_tensors=\"pt\", padding=True, truncation=True)\n",
    "dataset = Dataset.from_dict({\"input_ids\": inputs[\"input_ids\"]})\n",
    "\n",
    "# training_args = TrainingArguments(\n",
    "#     output_dir=\"./outputs\",\n",
    "#     per_device_train_batch_size=1,\n",
    "#     logging_steps=1,\n",
    "#     max_steps=5,\n",
    "#     warmup_steps=2,\n",
    "#     learning_rate=2e-4,\n",
    "#     fp16=True,\n",
    "# )\n",
    "training_args = TrainingArguments(\n",
    "    per_device_train_batch_size=1,\n",
    "    gradient_accumulation_steps=4,\n",
    "    warmup_steps=2,\n",
    "    max_steps=10,\n",
    "    learning_rate=2e-4,\n",
    "    fp16=True,\n",
    "    logging_steps=1,\n",
    "    output_dir=\"outputs\",\n",
    "    optim=\"paged_adamw_8bit\",  # позволяет снизить нагрузку на gpu память и ускорить работу\n",
    "    report_to=\"none\",\n",
    "    # remove_unused_columns=False,\n",
    ")\n",
    "\n",
    "trainer = Trainer(\n",
    "    model=model,\n",
    "    tokenizer=tokenizer,\n",
    "    args=training_args,\n",
    "    train_dataset=tokenized_dataset,\n",
    "    data_collator=DataCollatorForLanguageModeling(tokenizer=tokenizer, mlm=False),\n",
    ")\n",
    "\n",
    "trainer.train()\n"
   ]
  }
 ],
 "metadata": {
  "kernelspec": {
   "display_name": ".venv",
   "language": "python",
   "name": "python3"
  },
  "language_info": {
   "codemirror_mode": {
    "name": "ipython",
    "version": 3
   },
   "file_extension": ".py",
   "mimetype": "text/x-python",
   "name": "python",
   "nbconvert_exporter": "python",
   "pygments_lexer": "ipython3",
   "version": "3.13.2"
  }
 },
 "nbformat": 4,
 "nbformat_minor": 5
}
